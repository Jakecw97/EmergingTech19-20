{
 "cells": [
  {
   "cell_type": "markdown",
   "metadata": {},
   "source": [
    "# G00349377 - Jake Warren - Emerging Technology Project 2019"
   ]
  },
  {
   "cell_type": "markdown",
   "metadata": {},
   "source": [
    "<H1>Adapted from:</H1>\n",
    "\n",
    "https://keras.io/examples/mnist_cnn/"
   ]
  },
  {
   "cell_type": "markdown",
   "metadata": {},
   "source": [
    "<H2>Research:</H2>\n",
    "\n",
    "To complete this project, I needed to improve my knowledge on Neural Networks and Datasets. The Dataset I chose is the MNIST DATASET:  http://yann.lecun.com/exdb/mnist/  . To build the neural network I used Keras as it was covered in the labs and had extensive documentation available. While researching Keras I found this: https://stackabuse.com/image-recognition-in-python-with-tensorflow-and-keras/ , While not fully applicable to this project I found the explanations to be quite helpful. I also came across: https://machinelearningmastery.com/handwritten-digit-recognition-using-convolutional-neural-networks-python-keras/ which helped my understandings of Epochs."
   ]
  },
  {
   "cell_type": "markdown",
   "metadata": {},
   "source": [
    "<H2>Imports</H2>"
   ]
  },
  {
   "cell_type": "code",
   "execution_count": 1,
   "metadata": {
    "scrolled": true
   },
   "outputs": [
    {
     "name": "stderr",
     "output_type": "stream",
     "text": [
      "Using TensorFlow backend.\n"
     ]
    }
   ],
   "source": [
    "#Imports \n",
    "#Numpy used for mathematics\n",
    "import numpy as np\n",
    "#matplotlib used for graphs, plots etc.\n",
    "import matplotlib.pyplot as plt\n",
    "#Keras neural network API\n",
    "import keras as kr\n",
    "#Tensorflow used as backend for K\n",
    "import tensorflow as tf"
   ]
  },
  {
   "cell_type": "markdown",
   "metadata": {},
   "source": [
    "<H2>Importing and parsing the dataset</H2>"
   ]
  },
  {
   "cell_type": "code",
   "execution_count": 2,
   "metadata": {},
   "outputs": [],
   "source": [
    "#Import MNIST dataset, this is used by neural network to learn the digits.\n",
    "(training_image, training_label), (testing_image, testing_label) = kr.datasets.mnist.load_data()\n",
    "\n",
    "#Reshape the data\n",
    "training_image = training_image.reshape(60000, 784)\n",
    "testing_image = testing_image.reshape(10000, 784)\n",
    "\n",
    "#Converting to float32 as it enables better division\n",
    "training_image = training_image.astype('float32')\n",
    "testing_image = testing_image.astype('float32')\n",
    "\n",
    "#Divide images by 255\n",
    "training_image = training_image/255\n",
    "testing_image = testing_image/255 \n",
    "\n",
    "#MNIST Dataset contains digits 0-10\n",
    "digits= 10\n",
    "\n",
    "training_label = kr.utils.np_utils.to_categorical(training_label, digits)\n",
    "testing_label = kr.utils.np_utils.to_categorical(testing_label, digits)\n"
   ]
  },
  {
   "cell_type": "markdown",
   "metadata": {},
   "source": [
    "<H2>Displaying example images from dataset</H2>"
   ]
  },
  {
   "cell_type": "code",
   "execution_count": 3,
   "metadata": {},
   "outputs": [
    {
     "data": {
      "image/png": "[encoded data removed]",
      "text/plain": [
       "<Figure size 1440x720 with 20 Axes>"
      ]
     },
     "metadata": {},
     "output_type": "display_data"
    }
   ],
   "source": [
    "#Plot examples\n",
    "plt.figure(1, figsize=(20,10))\n",
    "\n",
    "#For loop, prints out first 20 images in the dataset\n",
    "for i in range(20):\n",
    "    plt.subplot(1,20,i+1)\n",
    "    \n",
    "    plt.imshow(training_image[i].reshape(28,28), cmap='gray', interpolation='nearest')\n",
    "    \n",
    "    #Remove label markings\n",
    "    plt.xticks([])\n",
    "    plt.yticks([])"
   ]
  },
  {
   "cell_type": "markdown",
   "metadata": {},
   "source": [
    "<H2>Creating the model</H2>"
   ]
  },
  {
   "cell_type": "code",
   "execution_count": 4,
   "metadata": {},
   "outputs": [
    {
     "name": "stdout",
     "output_type": "stream",
     "text": [
      "Model created successfully\n",
      "Layers added successfully\n"
     ]
    }
   ],
   "source": [
    "#Create model\n",
    "model = kr.models.Sequential()\n",
    "print(\"Model created successfully\")\n",
    "\n",
    "#Add Layers to the model\n",
    "\n",
    "# 392 neurons in first two layers, last layer dropout layer.\n",
    "model.add(kr.layers.Dense(392, activation='relu', input_shape=(784,)))\n",
    "model.add(kr.layers.Dense(392, activation='relu'))\n",
    "model.add(kr.layers.Dropout(0.2))\n",
    "model.add(kr.layers.Dense(10, activation='softmax'))\n",
    "\n",
    "print(\"Layers added successfully\")"
   ]
  },
  {
   "cell_type": "markdown",
   "metadata": {},
   "source": [
    "<H2>Model Summary</H2>"
   ]
  },
  {
   "cell_type": "code",
   "execution_count": 5,
   "metadata": {},
   "outputs": [
    {
     "name": "stdout",
     "output_type": "stream",
     "text": [
      "Model Summary\n",
      "Model: \"sequential_1\"\n",
      "_________________________________________________________________\n",
      "Layer (type)                 Output Shape              Param #   \n",
      "=================================================================\n",
      "dense_1 (Dense)              (None, 392)               307720    \n",
      "_________________________________________________________________\n",
      "dense_2 (Dense)              (None, 392)               154056    \n",
      "_________________________________________________________________\n",
      "dropout_1 (Dropout)          (None, 392)               0         \n",
      "_________________________________________________________________\n",
      "dense_3 (Dense)              (None, 10)                3930      \n",
      "=================================================================\n",
      "Total params: 465,706\n",
      "Trainable params: 465,706\n",
      "Non-trainable params: 0\n",
      "_________________________________________________________________\n"
     ]
    }
   ],
   "source": [
    "#Print model Summary\n",
    "print(\"Model Summary\")\n",
    "model.summary()"
   ]
  },
  {
   "cell_type": "markdown",
   "metadata": {},
   "source": [
    "<H2>Model Compiling</H2>"
   ]
  },
  {
   "cell_type": "code",
   "execution_count": 6,
   "metadata": {},
   "outputs": [
    {
     "name": "stdout",
     "output_type": "stream",
     "text": [
      "Model compiled successfully\n"
     ]
    }
   ],
   "source": [
    "# Compiles the model\n",
    "model.compile(loss='categorical_crossentropy', optimizer='adam', metrics=['accuracy'])\n",
    "print(\"Model compiled successfully\")"
   ]
  },
  {
   "cell_type": "markdown",
   "metadata": {},
   "source": [
    "<H2>Model Training</H2>"
   ]
  },
  {
   "cell_type": "code",
   "execution_count": 7,
   "metadata": {},
   "outputs": [
    {
     "name": "stdout",
     "output_type": "stream",
     "text": [
      "Train on 60000 samples, validate on 10000 samples\n",
      "Epoch 1/5\n",
      "60000/60000 [==============================] - 7s 112us/step - loss: 0.2059 - accuracy: 0.9376 - val_loss: 0.1028 - val_accuracy: 0.9674\n",
      "Epoch 2/5\n",
      "60000/60000 [==============================] - 6s 107us/step - loss: 0.0835 - accuracy: 0.9743 - val_loss: 0.0755 - val_accuracy: 0.9749\n",
      "Epoch 3/5\n",
      "60000/60000 [==============================] - 6s 106us/step - loss: 0.0569 - accuracy: 0.9817 - val_loss: 0.0813 - val_accuracy: 0.9762\n",
      "Epoch 4/5\n",
      "60000/60000 [==============================] - 7s 112us/step - loss: 0.0446 - accuracy: 0.9852 - val_loss: 0.0770 - val_accuracy: 0.9772\n",
      "Epoch 5/5\n",
      "60000/60000 [==============================] - 7s 111us/step - loss: 0.0348 - accuracy: 0.9886 - val_loss: 0.0790 - val_accuracy: 0.9768\n"
     ]
    }
   ],
   "source": [
    "#Epoch is how many times the test is run\n",
    "#The accuracy goes up with each test/Epoch\n",
    "#Adding too many epochs makes the model 'too accurate', making prediction improbable\n",
    "history = model.fit(training_image, training_label, batch_size=50, epochs=5, verbose=1, validation_data=(testing_image, testing_label))\n"
   ]
  },
  {
   "cell_type": "markdown",
   "metadata": {},
   "source": [
    "<H2>Display Accuracy and Loss</H2>"
   ]
  },
  {
   "cell_type": "code",
   "execution_count": 8,
   "metadata": {},
   "outputs": [
    {
     "name": "stdout",
     "output_type": "stream",
     "text": [
      "Test cross-entropy loss: 0.023338351\n",
      "Test accuracy: 0.992216647\n"
     ]
    }
   ],
   "source": [
    "#Displays accuracy and loss of model\n",
    "score = model.evaluate(training_image, training_label, verbose=0)\n",
    "print('Test cross-entropy loss: %0.9f' % score[0])\n",
    "print('Test accuracy: %0.9f' % score[1])"
   ]
  },
  {
   "cell_type": "markdown",
   "metadata": {},
   "source": [
    "<H2>Graphing the Accuracy and Loss</H2>"
   ]
  },
  {
   "cell_type": "code",
   "execution_count": 9,
   "metadata": {},
   "outputs": [
    {
     "data": {
      "text/plain": [
       "<matplotlib.legend.Legend at 0x208ee01d788>"
      ]
     },
     "execution_count": 9,
     "metadata": {},
     "output_type": "execute_result"
    },
    {
     "data": {
      "image/png": "[encoded data removed]",
      "text/plain": [
       "<Figure size 1008x360 with 2 Axes>"
      ]
     },
     "metadata": {
      "needs_background": "light"
     },
     "output_type": "display_data"
    }
   ],
   "source": [
    "plt.figure(1, figsize=(14,5))\n",
    "#Accuracy Plotting\n",
    "plt.subplot(1,2,1)\n",
    "plt.plot(history.history['accuracy'], label='train')\n",
    "plt.plot(history.history['val_accuracy'], label='valid')\n",
    "plt.xlabel('Epoch')\n",
    "plt.ylabel('Accuracy')\n",
    "plt.legend()\n",
    "#Loss Plotting\n",
    "plt.subplot(1,2,2)\n",
    "plt.plot(history.history['loss'], label='train')\n",
    "plt.plot(history.history['val_loss'], label='valid')\n",
    "plt.xlabel('Epoch')\n",
    "plt.ylabel('Loss')\n",
    "plt.legend()\n",
    "\n"
   ]
  },
  {
   "cell_type": "markdown",
   "metadata": {},
   "source": [
    "<H2>Save and Load the Model</H2>"
   ]
  },
  {
   "cell_type": "code",
   "execution_count": 10,
   "metadata": {},
   "outputs": [
    {
     "name": "stdout",
     "output_type": "stream",
     "text": [
      "Model saved successfully\n"
     ]
    }
   ],
   "source": [
    "#Save Model\n",
    "model.save('predictionModel.h5')\n",
    "print(\"Model saved successfully\")"
   ]
  },
  {
   "cell_type": "code",
   "execution_count": 11,
   "metadata": {},
   "outputs": [
    {
     "name": "stdout",
     "output_type": "stream",
     "text": [
      "Model loaded successfully.\n"
     ]
    }
   ],
   "source": [
    "#Load Model\n",
    "loadedModel = kr.models.load_model('predictionModel.h5')\n",
    "print(\"Model loaded successfully.\")"
   ]
  },
  {
   "cell_type": "markdown",
   "metadata": {},
   "source": [
    "<H2>Testing the model</H2>"
   ]
  },
  {
   "cell_type": "code",
   "execution_count": 12,
   "metadata": {},
   "outputs": [
    {
     "data": {
      "image/png": "[encoded data removed]",
      "text/plain": [
       "<Figure size 432x288 with 1 Axes>"
      ]
     },
     "metadata": {
      "needs_background": "light"
     },
     "output_type": "display_data"
    },
    {
     "data": {
      "text/plain": [
       "0"
      ]
     },
     "execution_count": 12,
     "metadata": {},
     "output_type": "execute_result"
    }
   ],
   "source": [
    "#Selects image from MNIST dataset\n",
    "plt.imshow(training_image[75].reshape(28, 28), cmap=\"gray\")\n",
    "plt.show()\n",
    "np.argmax(loadedModel.predict(training_image[75:76]))"
   ]
  },
  {
   "cell_type": "code",
   "execution_count": 13,
   "metadata": {},
   "outputs": [
    {
     "data": {
      "image/png": "[encoded data removed]",
      "text/plain": [
       "<Figure size 432x288 with 1 Axes>"
      ]
     },
     "metadata": {
      "needs_background": "light"
     },
     "output_type": "display_data"
    },
    {
     "data": {
      "text/plain": [
       "4"
      ]
     },
     "execution_count": 13,
     "metadata": {},
     "output_type": "execute_result"
    }
   ],
   "source": [
    "#Selects image from MNIST dataset\n",
    "plt.imshow(training_image[2].reshape(28, 28), cmap=\"gray\")\n",
    "plt.show()\n",
    "np.argmax(loadedModel.predict(training_image[2:3]))"
   ]
  },
  {
   "cell_type": "code",
   "execution_count": 14,
   "metadata": {},
   "outputs": [
    {
     "data": {
      "image/png": "[encoded data removed]",
      "text/plain": [
       "<Figure size 432x288 with 1 Axes>"
      ]
     },
     "metadata": {
      "needs_background": "light"
     },
     "output_type": "display_data"
    },
    {
     "data": {
      "text/plain": [
       "1"
      ]
     },
     "execution_count": 14,
     "metadata": {},
     "output_type": "execute_result"
    }
   ],
   "source": [
    "#Selects image from MNIST dataset\n",
    "plt.imshow(training_image[3].reshape(28, 28), cmap=\"gray\")\n",
    "plt.show()\n",
    "np.argmax(loadedModel.predict(training_image[3:4]))"
   ]
  },
  {
   "cell_type": "markdown",
   "metadata": {},
   "source": [
    "References: <br>\n",
    "   * https://keras.io/examples/mnist_cnn/ <br>\n",
    "   * https://www.tensorflow.org/tutorials/quickstart/beginner<br>\n",
    "   * https://nbviewer.jupyter.org/github/ianmcloughlin/jupyter-teaching-notebooks/blob/master/mnist.ipynb<br>\n",
    "   * https://web.microsoftstream.com/video/f6bd0f1c-802c-4c0a-bc54-211bc9d85ba5<br>\n",
    "   * https://web.microsoftstream.com/video/12b70f05-45d3-4d78-9d8c-6ee6c3745809"
   ]
  }
 ],
 "metadata": {
  "kernelspec": {
   "display_name": "Python 3",
   "language": "python",
   "name": "python3"
  },
  "language_info": {
   "codemirror_mode": {
    "name": "ipython",
    "version": 3
   },
   "file_extension": ".py",
   "mimetype": "text/x-python",
   "name": "python",
   "nbconvert_exporter": "python",
   "pygments_lexer": "ipython3",
   "version": "3.7.4"
  }
 },
 "nbformat": 4,
 "nbformat_minor": 2
}
